{
 "cells": [
  {
   "cell_type": "code",
   "execution_count": 1,
   "id": "cf165bbf",
   "metadata": {},
   "outputs": [
    {
     "name": "stdout",
     "output_type": "stream",
     "text": [
      "Select stone or paper or scissorpaper\n",
      "scissor\n",
      "paper\n",
      "system win\n",
      "total score for user is: 0\n",
      "total score for system is: 1\n",
      "Select stone or paper or scissorpaper\n",
      "scissor\n",
      "paper\n",
      "system win\n",
      "total score for user is: 0\n",
      "total score for system is: 2\n",
      "Select stone or paper or scissorpaper\n",
      "stone\n",
      "paper\n",
      "user win\n",
      "total score for user is: 1\n",
      "total score for system is: 2\n",
      "Select stone or paper or scissorpaper\n",
      "stone\n",
      "paper\n",
      "user win\n",
      "total score for user is: 2\n",
      "total score for system is: 2\n",
      "Select stone or paper or scissorpaper\n",
      "paper\n",
      "paper\n",
      "Draw\n",
      "total score for user is: 2\n",
      "total score for system is: 2\n"
     ]
    }
   ],
   "source": [
    "import random\n",
    "u=0\n",
    "s=0\n",
    "i=0\n",
    "while(i<5):\n",
    "    a=[\"stone\",\"paper\",\"scissor\"]\n",
    "    system=random.choice(a)\n",
    "    user=input(\"Select stone or paper or scissor\")\n",
    "    print(system)\n",
    "    print(user)\n",
    "    if system==\"stone\" and user==\"paper\":\n",
    "        print(\"user win\")\n",
    "        u=u+1\n",
    "    elif system==\"stone\" and user==\"scissor\":\n",
    "        print(\"system win\")\n",
    "        s=s+1\n",
    "    elif system==\"paper\" and user==\"stone\":\n",
    "        print(\"system win\")\n",
    "        s=s+1\n",
    "    elif system==\"paper\" and user==\"scissor\":\n",
    "        print(\"user win\")\n",
    "        u=u+1\n",
    "    elif system==\"scissor\" and user==\"stone\":\n",
    "        print(\"user win\")\n",
    "        u=u+1\n",
    "    elif system==\"scissor\" and user==\"paper\":\n",
    "        print(\"system win\")\n",
    "        s=s+1\n",
    "    else:\n",
    "        print(\"Draw\")\n",
    "    i=i+1\n",
    "    print(\"total score for user is:\",u)\n",
    "    print(\"total score for system is:\",s)\n",
    "    "
   ]
  },
  {
   "cell_type": "code",
   "execution_count": 3,
   "id": "e835a65e",
   "metadata": {},
   "outputs": [
    {
     "name": "stdout",
     "output_type": "stream",
     "text": [
      "30\n"
     ]
    }
   ],
   "source": [
    "def sum():\n",
    "    a=10\n",
    "    b=20\n",
    "    print(a+b)\n",
    "sum()"
   ]
  },
  {
   "cell_type": "code",
   "execution_count": 19,
   "id": "797c860a",
   "metadata": {},
   "outputs": [],
   "source": [
    "def sub(a,b):\n",
    "    c=a-b\n",
    "    return(c)"
   ]
  },
  {
   "cell_type": "code",
   "execution_count": 21,
   "id": "b7826670",
   "metadata": {},
   "outputs": [
    {
     "name": "stdout",
     "output_type": "stream",
     "text": [
      "10\n"
     ]
    }
   ],
   "source": [
    "z=sub(20,10)\n",
    "print(z)"
   ]
  },
  {
   "cell_type": "code",
   "execution_count": 22,
   "id": "9c896a9e",
   "metadata": {},
   "outputs": [],
   "source": [
    "def sum(a,b):\n",
    "    return(a+b)\n",
    "\n",
    "def sub(a,b):\n",
    "    x=a\n",
    "    y=b\n",
    "    z=a-b\n",
    "    return(z)\n",
    "\n",
    "def multi(a,b):\n",
    "    x=a\n",
    "    y=b\n",
    "    z=a*b\n",
    "    return(z)\n",
    "\n",
    "def div(a,b):\n",
    "    x=a\n",
    "    y=b\n",
    "    z=a/b\n",
    "    return(z)"
   ]
  },
  {
   "cell_type": "code",
   "execution_count": 23,
   "id": "2875070f",
   "metadata": {},
   "outputs": [
    {
     "name": "stdout",
     "output_type": "stream",
     "text": [
      "30\n"
     ]
    }
   ],
   "source": [
    "s=sum(10,20)\n",
    "print(s)"
   ]
  },
  {
   "cell_type": "code",
   "execution_count": 14,
   "id": "a48bf2b4",
   "metadata": {},
   "outputs": [
    {
     "name": "stdout",
     "output_type": "stream",
     "text": [
      "-10\n"
     ]
    }
   ],
   "source": [
    "m=sub(10,20)\n",
    "print(m)"
   ]
  },
  {
   "cell_type": "code",
   "execution_count": 15,
   "id": "f6222e17",
   "metadata": {},
   "outputs": [
    {
     "name": "stdout",
     "output_type": "stream",
     "text": [
      "200\n"
     ]
    }
   ],
   "source": [
    "p=multi(10,20)\n",
    "print(p)"
   ]
  },
  {
   "cell_type": "code",
   "execution_count": 16,
   "id": "49a84e80",
   "metadata": {},
   "outputs": [
    {
     "name": "stdout",
     "output_type": "stream",
     "text": [
      "2.0\n"
     ]
    }
   ],
   "source": [
    "d=div(4,2)\n",
    "print(d)"
   ]
  },
  {
   "cell_type": "code",
   "execution_count": 30,
   "id": "43418611",
   "metadata": {},
   "outputs": [],
   "source": [
    "def fact():\n",
    "    s=1\n",
    "    a=int(input(\"enter a number\"))\n",
    "    for i in range(1,a+1):\n",
    "        s=s*i\n",
    "    return(s)"
   ]
  },
  {
   "cell_type": "code",
   "execution_count": 43,
   "id": "fb67a4e1",
   "metadata": {},
   "outputs": [
    {
     "ename": "KeyboardInterrupt",
     "evalue": "Interrupted by user",
     "output_type": "error",
     "traceback": [
      "\u001b[1;31m---------------------------------------------------------------------------\u001b[0m",
      "\u001b[1;31mKeyboardInterrupt\u001b[0m                         Traceback (most recent call last)",
      "Cell \u001b[1;32mIn[43], line 1\u001b[0m\n\u001b[1;32m----> 1\u001b[0m f\u001b[38;5;241m=\u001b[39mfact()\n\u001b[0;32m      2\u001b[0m \u001b[38;5;28mprint\u001b[39m(f)\n",
      "Cell \u001b[1;32mIn[30], line 3\u001b[0m, in \u001b[0;36mfact\u001b[1;34m()\u001b[0m\n\u001b[0;32m      1\u001b[0m \u001b[38;5;28;01mdef\u001b[39;00m \u001b[38;5;21mfact\u001b[39m():\n\u001b[0;32m      2\u001b[0m     s\u001b[38;5;241m=\u001b[39m\u001b[38;5;241m1\u001b[39m\n\u001b[1;32m----> 3\u001b[0m     a\u001b[38;5;241m=\u001b[39m\u001b[38;5;28mint\u001b[39m(\u001b[38;5;28minput\u001b[39m(\u001b[38;5;124m\"\u001b[39m\u001b[38;5;124menter a number\u001b[39m\u001b[38;5;124m\"\u001b[39m))\n\u001b[0;32m      4\u001b[0m     \u001b[38;5;28;01mfor\u001b[39;00m i \u001b[38;5;129;01min\u001b[39;00m \u001b[38;5;28mrange\u001b[39m(\u001b[38;5;241m1\u001b[39m,a\u001b[38;5;241m+\u001b[39m\u001b[38;5;241m1\u001b[39m):\n\u001b[0;32m      5\u001b[0m         s\u001b[38;5;241m=\u001b[39ms\u001b[38;5;241m*\u001b[39mi\n",
      "File \u001b[1;32m~\\anaconda3\\Lib\\site-packages\\ipykernel\\kernelbase.py:1202\u001b[0m, in \u001b[0;36mKernel.raw_input\u001b[1;34m(self, prompt)\u001b[0m\n\u001b[0;32m   1200\u001b[0m     msg \u001b[38;5;241m=\u001b[39m \u001b[38;5;124m\"\u001b[39m\u001b[38;5;124mraw_input was called, but this frontend does not support input requests.\u001b[39m\u001b[38;5;124m\"\u001b[39m\n\u001b[0;32m   1201\u001b[0m     \u001b[38;5;28;01mraise\u001b[39;00m StdinNotImplementedError(msg)\n\u001b[1;32m-> 1202\u001b[0m \u001b[38;5;28;01mreturn\u001b[39;00m \u001b[38;5;28mself\u001b[39m\u001b[38;5;241m.\u001b[39m_input_request(\n\u001b[0;32m   1203\u001b[0m     \u001b[38;5;28mstr\u001b[39m(prompt),\n\u001b[0;32m   1204\u001b[0m     \u001b[38;5;28mself\u001b[39m\u001b[38;5;241m.\u001b[39m_parent_ident[\u001b[38;5;124m\"\u001b[39m\u001b[38;5;124mshell\u001b[39m\u001b[38;5;124m\"\u001b[39m],\n\u001b[0;32m   1205\u001b[0m     \u001b[38;5;28mself\u001b[39m\u001b[38;5;241m.\u001b[39mget_parent(\u001b[38;5;124m\"\u001b[39m\u001b[38;5;124mshell\u001b[39m\u001b[38;5;124m\"\u001b[39m),\n\u001b[0;32m   1206\u001b[0m     password\u001b[38;5;241m=\u001b[39m\u001b[38;5;28;01mFalse\u001b[39;00m,\n\u001b[0;32m   1207\u001b[0m )\n",
      "File \u001b[1;32m~\\anaconda3\\Lib\\site-packages\\ipykernel\\kernelbase.py:1245\u001b[0m, in \u001b[0;36mKernel._input_request\u001b[1;34m(self, prompt, ident, parent, password)\u001b[0m\n\u001b[0;32m   1242\u001b[0m \u001b[38;5;28;01mexcept\u001b[39;00m \u001b[38;5;167;01mKeyboardInterrupt\u001b[39;00m:\n\u001b[0;32m   1243\u001b[0m     \u001b[38;5;66;03m# re-raise KeyboardInterrupt, to truncate traceback\u001b[39;00m\n\u001b[0;32m   1244\u001b[0m     msg \u001b[38;5;241m=\u001b[39m \u001b[38;5;124m\"\u001b[39m\u001b[38;5;124mInterrupted by user\u001b[39m\u001b[38;5;124m\"\u001b[39m\n\u001b[1;32m-> 1245\u001b[0m     \u001b[38;5;28;01mraise\u001b[39;00m \u001b[38;5;167;01mKeyboardInterrupt\u001b[39;00m(msg) \u001b[38;5;28;01mfrom\u001b[39;00m \u001b[38;5;28;01mNone\u001b[39;00m\n\u001b[0;32m   1246\u001b[0m \u001b[38;5;28;01mexcept\u001b[39;00m \u001b[38;5;167;01mException\u001b[39;00m:\n\u001b[0;32m   1247\u001b[0m     \u001b[38;5;28mself\u001b[39m\u001b[38;5;241m.\u001b[39mlog\u001b[38;5;241m.\u001b[39mwarning(\u001b[38;5;124m\"\u001b[39m\u001b[38;5;124mInvalid Message:\u001b[39m\u001b[38;5;124m\"\u001b[39m, exc_info\u001b[38;5;241m=\u001b[39m\u001b[38;5;28;01mTrue\u001b[39;00m)\n",
      "\u001b[1;31mKeyboardInterrupt\u001b[0m: Interrupted by user"
     ]
    }
   ],
   "source": [
    "f=fact()\n",
    "print(f)"
   ]
  },
  {
   "cell_type": "code",
   "execution_count": 40,
   "id": "2274c8eb",
   "metadata": {},
   "outputs": [],
   "source": [
    "def month(a):\n",
    "    if a==1:\n",
    "        print(\"January\")\n",
    "    elif a==2:\n",
    "        print(\"Febuary\")\n",
    "    elif a==3:\n",
    "        print(\"March\")\n",
    "    elif a==4:\n",
    "        print(\"April\")\n",
    "    elif a==5:\n",
    "        print(\"May\")\n",
    "    elif a==6:\n",
    "        print(\"June\")\n",
    "    elif a==7:\n",
    "        print(\"July\")\n",
    "    elif a==8:\n",
    "        print(\"Augest\")\n",
    "    elif a==9:\n",
    "        print(\"september\")\n",
    "    elif a==10:\n",
    "        print(\"october\")\n",
    "    elif a==11:\n",
    "        print(\"November\")\n",
    "    elif a==12:\n",
    "        print(\"December\")\n",
    "    else:\n",
    "        print(\"invalid option\")\n",
    "        "
   ]
  },
  {
   "cell_type": "code",
   "execution_count": 44,
   "id": "32254733",
   "metadata": {},
   "outputs": [
    {
     "name": "stdout",
     "output_type": "stream",
     "text": [
      "enter a number5\n",
      "May\n"
     ]
    }
   ],
   "source": [
    "a=int(input(\"enter a number\"))\n",
    "month(a)"
   ]
  },
  {
   "cell_type": "code",
   "execution_count": 45,
   "id": "6faa219b",
   "metadata": {},
   "outputs": [
    {
     "name": "stdout",
     "output_type": "stream",
     "text": [
      "2023-12-18 01:42:45.389781\n"
     ]
    }
   ],
   "source": [
    "import datetime\n",
    "x=datetime.datetime.now()\n",
    "print(x)"
   ]
  },
  {
   "cell_type": "code",
   "execution_count": 47,
   "id": "d626036d",
   "metadata": {},
   "outputs": [],
   "source": [
    "def prime(a):\n",
    "    i=1\n",
    "    count=0\n",
    "    for i in range(1,a):\n",
    "        if a%i==0:\n",
    "            count=count+1\n",
    "    if count<2:\n",
    "        print(\"number is prime\")\n",
    "    else:\n",
    "        print(\"number is not prime\")\n"
   ]
  },
  {
   "cell_type": "code",
   "execution_count": 49,
   "id": "43cd43d0",
   "metadata": {},
   "outputs": [
    {
     "name": "stdout",
     "output_type": "stream",
     "text": [
      "number is prime\n"
     ]
    }
   ],
   "source": [
    "prime(5)"
   ]
  },
  {
   "cell_type": "code",
   "execution_count": null,
   "id": "9eb53cd5",
   "metadata": {},
   "outputs": [],
   "source": []
  }
 ],
 "metadata": {
  "kernelspec": {
   "display_name": "Python 3 (ipykernel)",
   "language": "python",
   "name": "python3"
  },
  "language_info": {
   "codemirror_mode": {
    "name": "ipython",
    "version": 3
   },
   "file_extension": ".py",
   "mimetype": "text/x-python",
   "name": "python",
   "nbconvert_exporter": "python",
   "pygments_lexer": "ipython3",
   "version": "3.11.5"
  }
 },
 "nbformat": 4,
 "nbformat_minor": 5
}
